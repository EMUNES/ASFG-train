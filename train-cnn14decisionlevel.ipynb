{
 "metadata": {
  "language_info": {
   "codemirror_mode": {
    "name": "ipython",
    "version": 3
   },
   "file_extension": ".py",
   "mimetype": "text/x-python",
   "name": "python",
   "nbconvert_exporter": "python",
   "pygments_lexer": "ipython3",
   "version": "3.8.5-final"
  },
  "orig_nbformat": 2,
  "kernelspec": {
   "name": "python3",
   "display_name": "Python 3.8.5 64-bit ('asg': conda)",
   "metadata": {
    "interpreter": {
     "hash": "7c1e26b787ea84c0136f54dc33c70b3c054a8e0cf94179623b14c46360f5a1e6"
    }
   }
  }
 },
 "nbformat": 4,
 "nbformat_minor": 2,
 "cells": [
  {
   "source": [
    "# Train your model"
   ],
   "cell_type": "markdown",
   "metadata": {}
  },
  {
   "cell_type": "code",
   "execution_count": 1,
   "metadata": {},
   "outputs": [],
   "source": [
    "import cv2\n",
    "import os\n",
    "import random\n",
    "import time\n",
    "import warnings\n",
    "\n",
    "import librosa\n",
    "import numpy as np\n",
    "import pandas as pd\n",
    "\n",
    "import torch\n",
    "import torch.nn as nn\n",
    "import torch.nn.functional as F\n",
    "import torch.optim as optim\n",
    "import torch.utils.data as data\n",
    "from catalyst.dl import SupervisedRunner, State, CallbackOrder, Callback, CheckpointCallback"
   ]
  },
  {
   "cell_type": "code",
   "execution_count": 2,
   "metadata": {},
   "outputs": [],
   "source": [
    "from csrc.utils import TrainingDirs as TD\n",
    "from csrc.configurations import DatasetConfig as DC\n",
    "from csrc.configurations import ModelConfig as MC\n",
    "from csrc.utils import seed_dataset, seed_all "
   ]
  },
  {
   "source": [
    "## Train configurations"
   ],
   "cell_type": "markdown",
   "metadata": {}
  },
  {
   "cell_type": "code",
   "execution_count": 3,
   "metadata": {},
   "outputs": [],
   "source": [
    "# For better debugging.\n",
    "\n",
    "os.environ[\"CUDA_LAUNCH_BLOCKING\"] = \"1\""
   ]
  },
  {
   "cell_type": "code",
   "execution_count": 4,
   "metadata": {},
   "outputs": [
    {
     "output_type": "stream",
     "name": "stdout",
     "text": [
      "Training clip length (sencods): 3\n"
     ]
    }
   ],
   "source": [
    "### The folder name of your dataset.\n",
    "DATASET = \"standard-p3\"\n",
    "\n",
    "### Whether you have split your dataset.\n",
    "### If False then the test dataset will be generated as configured in TrainParams and choose the split ratio.\n",
    "BUILD_TEST = False\n",
    "PREBUILD_TEST = False\n",
    "TEST_RATIO = 5\n",
    "\n",
    "### The ratio to split your train/validaion dataset.\n",
    "VALID_RATIO = 5\n",
    "### Whether to shuffle the dataset.\n",
    "SHUFFLE = True\n",
    "\n",
    "### Clip length that will be used for training.\n",
    "### Default to be the same as the audio clip length in the dataset.\n",
    "PERIOD = DC.dataset_clip_time\n",
    "print(f\"Training clip length (sencods): {PERIOD}\")\n",
    "\n",
    "### Batch size for training. For example: 8gb GPU for 5s clips - batch size 32.\n",
    "BS = 48\n",
    "\n",
    "### Training epochs.\n",
    "EPOCHS = 30\n",
    "\n",
    "### Weights file path used for training.\n",
    "### Default under weights folder.\n",
    "WEIGHTS_PATH = \"./weights/Cnn14_DecisionLevelAtt_mAP0.425.pth\"\n",
    "\n",
    "### Default path to store your model.\n",
    "LOG_DIR = \"./train/logs/sp3-3/\""
   ]
  },
  {
   "cell_type": "code",
   "execution_count": 5,
   "metadata": {},
   "outputs": [],
   "source": [
    "# Random seeding.\n",
    "# Change seed will change your validation set randomly picked from the dataset.\n",
    "\n",
    "SEED = 42\n",
    "seed_all(SEED)\n",
    "seed_dataset(SEED)"
   ]
  },
  {
   "source": [
    "## Process"
   ],
   "cell_type": "markdown",
   "metadata": {}
  },
  {
   "cell_type": "code",
   "execution_count": 6,
   "metadata": {},
   "outputs": [
    {
     "output_type": "stream",
     "name": "stdout",
     "text": [
      "Working with dataset under data\\standard-p3.\nFOLDER_FOR_TRAINING: data\\standard-p3\nFOLDER_FOR_TEST: data\\standard-p3\n"
     ]
    }
   ],
   "source": [
    "# Set up working folder for training.\n",
    "\n",
    "dirs = TD(DATASET, PREBUILD_TEST)\n",
    "DATASET_FOLDER = dirs.dataset_folder\n",
    "TRAIN_FOLDER = dirs.train_folder\n",
    "TEST_FOLDER = dirs.test_folder\n",
    "\n",
    "### Currently we are training so we set up the training folder as the working folder.\n",
    "TRAIN_WORKING_FOLDER = TRAIN_FOLDER\n",
    "TEST_WORKING_FOLDER = TEST_FOLDER if TEST_FOLDER else TRAIN_FOLDER\n",
    "\n",
    "print(f\"FOLDER_FOR_TRAINING: {TRAIN_WORKING_FOLDER}\")\n",
    "print(f\"FOLDER_FOR_TEST: {TEST_WORKING_FOLDER}\")"
   ]
  },
  {
   "cell_type": "code",
   "execution_count": 7,
   "metadata": {},
   "outputs": [
    {
     "output_type": "stream",
     "name": "stdout",
     "text": [
      "Files for training: 15228\nFiles for testing: 3806\n"
     ]
    }
   ],
   "source": [
    "# Train/Test split. If the test folder has not been manually selected, then split the test folder.\n",
    "\n",
    "def sort_index(x):\n",
    "    return int(x.split(\"-\")[0])\n",
    "\n",
    "if not TEST_FOLDER:\n",
    "    all_files = os.listdir(TRAIN_FOLDER)\n",
    "    all_files.sort(key=sort_index)\n",
    "    test_index = len(all_files) // TEST_RATIO\n",
    "    test_files = all_files[-test_index:]\n",
    "    train_files = all_files[:-test_index]\n",
    "else:\n",
    "    train_files = os.listdir(TRAIN_FOLDER)\n",
    "    test_files = os.listdir(TEST_FOLDER)\n",
    "\n",
    "print(f\"Files for training: {len(train_files)}\")\n",
    "print(f\"Files for testing: {len(test_files)}\")"
   ]
  },
  {
   "cell_type": "code",
   "execution_count": 8,
   "metadata": {},
   "outputs": [
    {
     "output_type": "stream",
     "name": "stdout",
     "text": [
      "Files for training: 15228\nFiles for validation: 3806\nValidation file samples: ['2181-dallas-buyers-club-eng-1.wav', '2181-mission-impossible-iv-1.wav', '2181-the-dark-knight-rises-eng-0.wav', '2181-the-kingdom-of-heaven-eng-1.wav', '2181-the-kings-speech-eng-0.wav']\n"
     ]
    }
   ],
   "source": [
    "# Train/Validation split\n",
    "\n",
    "if SHUFFLE:\n",
    "    random.shuffle(train_files)\n",
    "\n",
    "if not BUILD_TEST:\n",
    "    train_files.extend(test_files)\n",
    "\n",
    "valid_idx = len(train_files) // VALID_RATIO\n",
    "valid_files = train_files[-valid_idx:]\n",
    "train_files = train_files[:-valid_idx]\n",
    "\n",
    "print(f\"Files for training: {len(train_files)}\")\n",
    "print(f\"Files for validation: {len(valid_files)}\")\n",
    "print(f\"Validation file samples: {valid_files[:5]}\")"
   ]
  },
  {
   "source": [
    "## Dataset"
   ],
   "cell_type": "markdown",
   "metadata": {}
  },
  {
   "cell_type": "code",
   "execution_count": 9,
   "metadata": {},
   "outputs": [],
   "source": [
    "from csrc.dataset import PANNsDataset"
   ]
  },
  {
   "source": [
    "## Transformer"
   ],
   "cell_type": "markdown",
   "metadata": {}
  },
  {
   "cell_type": "code",
   "execution_count": 10,
   "metadata": {},
   "outputs": [],
   "source": [
    "from csrc.transformers import BaseAug"
   ]
  },
  {
   "source": [
    "## Set up dataloader "
   ],
   "cell_type": "markdown",
   "metadata": {}
  },
  {
   "cell_type": "code",
   "execution_count": 11,
   "metadata": {},
   "outputs": [],
   "source": [
    "loaders = {\n",
    "    \"train\": data.DataLoader(PANNsDataset(train_files, training_folder=TRAIN_WORKING_FOLDER, test_folder=TEST_WORKING_FOLDER, waveform_transforms=BaseAug), # Build training set\n",
    "                            batch_size=BS,\n",
    "                            shuffle=True,\n",
    "                            num_workers=0, # 0 for windows system.\n",
    "                            pin_memory=True,\n",
    "                            drop_last=True),\n",
    "    \"valid\": data.DataLoader(PANNsDataset(valid_files, training_folder=TRAIN_WORKING_FOLDER, test_folder=TEST_WORKING_FOLDER, waveform_transforms=None), # Build training set.\\n\",\n",
    "                             batch_size=BS,\n",
    "                             shuffle=False,\n",
    "                             num_workers=0,\n",
    "                             pin_memory=True,\n",
    "                             drop_last=False)\n",
    "}"
   ]
  },
  {
   "source": [
    "## Model"
   ],
   "cell_type": "markdown",
   "metadata": {}
  },
  {
   "cell_type": "code",
   "execution_count": 12,
   "metadata": {},
   "outputs": [],
   "source": [
    "from csrc.models import AttBlock, PANNsCNN14Att"
   ]
  },
  {
   "source": [
    "## Loss"
   ],
   "cell_type": "markdown",
   "metadata": {}
  },
  {
   "cell_type": "code",
   "execution_count": 13,
   "metadata": {},
   "outputs": [],
   "source": [
    "from csrc.losses import ImprovedPANNsLoss"
   ]
  },
  {
   "source": [
    "## Callbacks"
   ],
   "cell_type": "markdown",
   "metadata": {}
  },
  {
   "cell_type": "code",
   "execution_count": 14,
   "metadata": {},
   "outputs": [],
   "source": [
    "from csrc.callbacks import F1Callback, mAPCallback, PrecisionCallback"
   ]
  },
  {
   "source": [
    "## Training Configurations"
   ],
   "cell_type": "markdown",
   "metadata": {}
  },
  {
   "cell_type": "code",
   "execution_count": 15,
   "metadata": {},
   "outputs": [],
   "source": [
    "# device\n",
    "device = torch.device(\"cuda:0\")\n",
    "\n",
    "# model\n",
    "model = PANNsCNN14Att(**MC.sed_model_config)\n",
    "weights = torch.load(WEIGHTS_PATH)\n",
    "model.load_state_dict(weights[\"model\"])\n",
    "model.att_block = AttBlock(2048, 2, activation=\"sigmoid\")\n",
    "model.att_block.init_weights()\n",
    "model.to(device)\n",
    "\n",
    "# optimizer\n",
    "optimizer = optim.Adam(model.parameters(), lr=0.001)\n",
    "\n",
    "# scheduler\n",
    "scheduler = optim.lr_scheduler.CosineAnnealingLR(optimizer, T_max=10)\n",
    "\n",
    "# loss\n",
    "loss = ImprovedPANNsLoss().to(device)\n",
    "\n",
    "# callbacks\n",
    "callbacks = [\n",
    "    F1Callback(),\n",
    "    mAPCallback(),\n",
    "    PrecisionCallback(),\n",
    "    CheckpointCallback(save_n_best=3),\n",
    "]"
   ]
  },
  {
   "source": [
    "## Training"
   ],
   "cell_type": "markdown",
   "metadata": {}
  },
  {
   "cell_type": "code",
   "execution_count": 16,
   "metadata": {
    "tags": []
   },
   "outputs": [
    {
     "output_type": "stream",
     "name": "stdout",
     "text": [
      "1/30 * Epoch (train): 100% 317/317 [12:17<00:00,  2.33s/it, loss=1.165, mAP=0.835, macro_f1=0.723, precision=0.913]\n",
      "1/30 * Epoch (valid): 100% 80/80 [00:20<00:00,  3.94it/s, loss=1.796, mAP=0.500, macro_f1=0.364, precision=0.000e+00]\n",
      "[2021-02-12 10:42:02,018] \n",
      "1/30 * Epoch 1 (_base): lr=0.0010 | momentum=0.9000\n",
      "1/30 * Epoch 1 (train): epoch_mAP=0.8601 | epoch_macro_f1=0.8238 | epoch_precision=0.8784 | loss=1.1902 | mAP=0.8735 | macro_f1=0.8127 | precision=0.8863\n",
      "1/30 * Epoch 1 (valid): epoch_mAP=0.9348 | epoch_macro_f1=0.8901 | epoch_precision=0.8869 | loss=0.8952 | mAP=0.8876 | macro_f1=0.8527 | precision=0.8097\n",
      "2/30 * Epoch (train): 100% 317/317 [11:50<00:00,  2.24s/it, loss=1.044, mAP=0.918, macro_f1=0.838, precision=0.875]\n",
      "2/30 * Epoch (valid): 100% 80/80 [00:16<00:00,  4.77it/s, loss=1.368, mAP=0.500, macro_f1=1.000, precision=0.000e+00]\n",
      "[2021-02-12 10:54:13,367] \n",
      "2/30 * Epoch 2 (_base): lr=0.0009 | momentum=0.9000\n",
      "2/30 * Epoch 2 (train): epoch_mAP=0.8825 | epoch_macro_f1=0.8561 | epoch_precision=0.9126 | loss=0.9780 | mAP=0.8994 | macro_f1=0.8540 | precision=0.9128\n",
      "2/30 * Epoch 2 (valid): epoch_mAP=0.9332 | epoch_macro_f1=0.8901 | epoch_precision=0.8646 | loss=0.8896 | mAP=0.8878 | macro_f1=0.8479 | precision=0.7912\n",
      "3/30 * Epoch (train): 100% 317/317 [11:03<00:00,  2.09s/it, loss=0.717, mAP=0.997, macro_f1=0.978, precision=1.000]\n",
      "3/30 * Epoch (valid): 100% 80/80 [00:15<00:00,  5.01it/s, loss=1.741, mAP=0.500, macro_f1=0.391, precision=0.000e+00]\n",
      "[2021-02-12 11:05:35,957] \n",
      "3/30 * Epoch 3 (_base): lr=0.0008 | momentum=0.9000\n",
      "3/30 * Epoch 3 (train): epoch_mAP=0.8975 | epoch_macro_f1=0.8629 | epoch_precision=0.9127 | loss=0.9476 | mAP=0.9088 | macro_f1=0.8602 | precision=0.9132\n",
      "3/30 * Epoch 3 (valid): epoch_mAP=0.9342 | epoch_macro_f1=0.8927 | epoch_precision=0.8683 | loss=0.8590 | mAP=0.8909 | macro_f1=0.8557 | precision=0.7875\n",
      "4/30 * Epoch (train): 100% 317/317 [10:53<00:00,  2.06s/it, loss=0.921, mAP=0.867, macro_f1=0.849, precision=0.969]\n",
      "4/30 * Epoch (valid): 100% 80/80 [00:15<00:00,  5.03it/s, loss=1.341, mAP=0.500, macro_f1=1.000, precision=0.000e+00]\n",
      "[2021-02-12 11:16:48,982] \n",
      "4/30 * Epoch 4 (_base): lr=0.0007 | momentum=0.9000\n",
      "4/30 * Epoch 4 (train): epoch_mAP=0.9052 | epoch_macro_f1=0.8678 | epoch_precision=0.9168 | loss=0.9282 | mAP=0.9171 | macro_f1=0.8657 | precision=0.9160\n",
      "4/30 * Epoch 4 (valid): epoch_mAP=0.9314 | epoch_macro_f1=0.8969 | epoch_precision=0.8914 | loss=0.8787 | mAP=0.8856 | macro_f1=0.8667 | precision=0.8069\n",
      "5/30 * Epoch (train): 100% 317/317 [10:53<00:00,  2.06s/it, loss=0.750, mAP=0.995, macro_f1=0.916, precision=1.000]\n",
      "5/30 * Epoch (valid): 100% 80/80 [00:15<00:00,  5.02it/s, loss=1.356, mAP=0.500, macro_f1=0.391, precision=0.000e+00]\n",
      "[2021-02-12 11:28:02,690] \n",
      "5/30 * Epoch 5 (_base): lr=0.0005 | momentum=0.9000\n",
      "5/30 * Epoch 5 (train): epoch_mAP=0.9125 | epoch_macro_f1=0.8733 | epoch_precision=0.9222 | loss=0.9106 | mAP=0.9215 | macro_f1=0.8705 | precision=0.9216\n",
      "5/30 * Epoch 5 (valid): epoch_mAP=0.9312 | epoch_macro_f1=0.8888 | epoch_precision=0.8735 | loss=0.8612 | mAP=0.8858 | macro_f1=0.8448 | precision=0.7927\n",
      "6/30 * Epoch (train): 100% 317/317 [10:57<00:00,  2.07s/it, loss=0.816, mAP=0.964, macro_f1=0.876, precision=0.939]\n",
      "6/30 * Epoch (valid): 100% 80/80 [00:16<00:00,  5.00it/s, loss=1.594, mAP=0.500, macro_f1=0.391, precision=0.000e+00]\n",
      "[2021-02-12 11:39:19,569] \n",
      "6/30 * Epoch 6 (_base): lr=0.0003 | momentum=0.9000\n",
      "6/30 * Epoch 6 (train): epoch_mAP=0.9168 | epoch_macro_f1=0.8790 | epoch_precision=0.9257 | loss=0.8943 | mAP=0.9249 | macro_f1=0.8767 | precision=0.9258\n",
      "6/30 * Epoch 6 (valid): epoch_mAP=0.9381 | epoch_macro_f1=0.8920 | epoch_precision=0.8602 | loss=0.8531 | mAP=0.8919 | macro_f1=0.8465 | precision=0.7739\n",
      "7/30 * Epoch (train): 100% 317/317 [10:53<00:00,  2.06s/it, loss=0.812, mAP=0.976, macro_f1=0.917, precision=0.957]\n",
      "7/30 * Epoch (valid): 100% 80/80 [00:16<00:00,  5.00it/s, loss=1.440, mAP=0.500, macro_f1=0.391, precision=0.000e+00]\n",
      "[2021-02-12 11:50:32,105] \n",
      "7/30 * Epoch 7 (_base): lr=0.0002 | momentum=0.9000\n",
      "7/30 * Epoch 7 (train): epoch_mAP=0.9231 | epoch_macro_f1=0.8824 | epoch_precision=0.9264 | loss=0.8797 | mAP=0.9299 | macro_f1=0.8806 | precision=0.9262\n",
      "7/30 * Epoch 7 (valid): epoch_mAP=0.9328 | epoch_macro_f1=0.8942 | epoch_precision=0.8735 | loss=0.8578 | mAP=0.8851 | macro_f1=0.8506 | precision=0.7968\n",
      "8/30 * Epoch (train): 100% 317/317 [10:59<00:00,  2.08s/it, loss=0.784, mAP=0.949, macro_f1=0.885, precision=0.935]\n",
      "8/30 * Epoch (valid): 100% 80/80 [00:15<00:00,  5.02it/s, loss=1.258, mAP=0.500, macro_f1=1.000, precision=0.000e+00]\n",
      "[2021-02-12 12:01:50,759] \n",
      "8/30 * Epoch 8 (_base): lr=9.549e-05 | momentum=0.9000\n",
      "8/30 * Epoch 8 (train): epoch_mAP=0.9301 | epoch_macro_f1=0.8865 | epoch_precision=0.9306 | loss=0.8657 | mAP=0.9358 | macro_f1=0.8842 | precision=0.9304\n",
      "8/30 * Epoch 8 (valid): epoch_mAP=0.9383 | epoch_macro_f1=0.9023 | epoch_precision=0.8854 | loss=0.8393 | mAP=0.8908 | macro_f1=0.8653 | precision=0.7985\n",
      "9/30 * Epoch (train): 100% 317/317 [11:04<00:00,  2.10s/it, loss=0.913, mAP=0.921, macro_f1=0.863, precision=0.966]\n",
      "9/30 * Epoch (valid): 100% 80/80 [00:15<00:00,  5.02it/s, loss=1.171, mAP=0.500, macro_f1=1.000, precision=0.000e+00]\n",
      "[2021-02-12 12:13:14,990] \n",
      "9/30 * Epoch 9 (_base): lr=2.447e-05 | momentum=0.9000\n",
      "9/30 * Epoch 9 (train): epoch_mAP=0.9345 | epoch_macro_f1=0.8918 | epoch_precision=0.9340 | loss=0.8524 | mAP=0.9388 | macro_f1=0.8899 | precision=0.9333\n",
      "9/30 * Epoch 9 (valid): epoch_mAP=0.9360 | epoch_macro_f1=0.8949 | epoch_precision=0.8679 | loss=0.8586 | mAP=0.8908 | macro_f1=0.8521 | precision=0.7830\n",
      "10/30 * Epoch (train): 100% 317/317 [10:53<00:00,  2.06s/it, loss=1.098, mAP=0.854, macro_f1=0.806, precision=0.857]\n",
      "10/30 * Epoch (valid): 100% 80/80 [00:15<00:00,  5.03it/s, loss=1.166, mAP=0.500, macro_f1=1.000, precision=0.000e+00]\n",
      "[2021-02-12 12:24:27,795] \n",
      "10/30 * Epoch 10 (_base): lr=0.000e+00 | momentum=0.9000\n",
      "10/30 * Epoch 10 (train): epoch_mAP=0.9396 | epoch_macro_f1=0.8937 | epoch_precision=0.9348 | loss=0.8436 | mAP=0.9428 | macro_f1=0.8914 | precision=0.9341\n",
      "10/30 * Epoch 10 (valid): epoch_mAP=0.9370 | epoch_macro_f1=0.8994 | epoch_precision=0.8816 | loss=0.8469 | mAP=0.8896 | macro_f1=0.8632 | precision=0.7966\n",
      "11/30 * Epoch (train): 100% 317/317 [11:06<00:00,  2.10s/it, loss=1.066, mAP=0.866, macro_f1=0.831, precision=0.885]\n",
      "11/30 * Epoch (valid): 100% 80/80 [00:15<00:00,  5.03it/s, loss=1.174, mAP=0.500, macro_f1=1.000, precision=0.000e+00]\n",
      "[2021-02-12 12:35:53,936] \n",
      "11/30 * Epoch 11 (_base): lr=2.447e-05 | momentum=0.9000\n",
      "11/30 * Epoch 11 (train): epoch_mAP=0.9393 | epoch_macro_f1=0.8905 | epoch_precision=0.9338 | loss=0.8475 | mAP=0.9418 | macro_f1=0.8883 | precision=0.9338\n",
      "11/30 * Epoch 11 (valid): epoch_mAP=0.9370 | epoch_macro_f1=0.9007 | epoch_precision=0.8814 | loss=0.8475 | mAP=0.8900 | macro_f1=0.8642 | precision=0.7969\n",
      "12/30 * Epoch (train): 100% 317/317 [11:06<00:00,  2.10s/it, loss=1.049, mAP=0.887, macro_f1=0.792, precision=0.871]\n",
      "12/30 * Epoch (valid): 100% 80/80 [00:15<00:00,  5.05it/s, loss=1.130, mAP=0.500, macro_f1=1.000, precision=0.000e+00]\n",
      "[2021-02-12 12:47:19,797] \n",
      "12/30 * Epoch 12 (_base): lr=9.549e-05 | momentum=0.9000\n",
      "12/30 * Epoch 12 (train): epoch_mAP=0.9391 | epoch_macro_f1=0.8933 | epoch_precision=0.9329 | loss=0.8435 | mAP=0.9425 | macro_f1=0.8911 | precision=0.9322\n",
      "12/30 * Epoch 12 (valid): epoch_mAP=0.9362 | epoch_macro_f1=0.9027 | epoch_precision=0.8838 | loss=0.8469 | mAP=0.8876 | macro_f1=0.8653 | precision=0.7973\n",
      "13/30 * Epoch (train): 100% 317/317 [11:01<00:00,  2.09s/it, loss=0.763, mAP=0.983, macro_f1=0.903, precision=0.969]\n",
      "13/30 * Epoch (valid): 100% 80/80 [00:15<00:00,  5.02it/s, loss=1.293, mAP=0.500, macro_f1=1.000, precision=0.000e+00]\n",
      "[2021-02-12 12:58:40,627] \n",
      "13/30 * Epoch 13 (_base): lr=0.0002 | momentum=0.9000\n",
      "13/30 * Epoch 13 (train): epoch_mAP=0.9389 | epoch_macro_f1=0.8937 | epoch_precision=0.9340 | loss=0.8443 | mAP=0.9428 | macro_f1=0.8924 | precision=0.9339\n",
      "13/30 * Epoch 13 (valid): epoch_mAP=0.9373 | epoch_macro_f1=0.9040 | epoch_precision=0.8933 | loss=0.8436 | mAP=0.8908 | macro_f1=0.8658 | precision=0.8029\n",
      "14/30 * Epoch (train): 100% 317/317 [11:05<00:00,  2.10s/it, loss=0.665, mAP=0.997, macro_f1=0.977, precision=0.969]\n",
      "14/30 * Epoch (valid): 100% 80/80 [00:15<00:00,  5.04it/s, loss=1.267, mAP=0.500, macro_f1=1.000, precision=0.000e+00]\n",
      "[2021-02-12 13:10:07,175] \n",
      "14/30 * Epoch 14 (_base): lr=0.0003 | momentum=0.9000\n",
      "14/30 * Epoch 14 (train): epoch_mAP=0.9389 | epoch_macro_f1=0.8914 | epoch_precision=0.9308 | loss=0.8472 | mAP=0.9436 | macro_f1=0.8895 | precision=0.9311\n",
      "14/30 * Epoch 14 (valid): epoch_mAP=0.9368 | epoch_macro_f1=0.9071 | epoch_precision=0.9185 | loss=0.8466 | mAP=0.8884 | macro_f1=0.8709 | precision=0.8293\n",
      "15/30 * Epoch (train): 100% 317/317 [11:07<00:00,  2.10s/it, loss=1.087, mAP=0.848, macro_f1=0.798, precision=0.867]\n",
      "15/30 * Epoch (valid): 100% 80/80 [00:15<00:00,  5.01it/s, loss=1.326, mAP=0.500, macro_f1=1.000, precision=0.000e+00]\n",
      "[2021-02-12 13:21:34,589] \n",
      "15/30 * Epoch 15 (_base): lr=0.0005 | momentum=0.9000\n",
      "15/30 * Epoch 15 (train): epoch_mAP=0.9336 | epoch_macro_f1=0.8862 | epoch_precision=0.9281 | loss=0.8590 | mAP=0.9381 | macro_f1=0.8836 | precision=0.9280\n",
      "15/30 * Epoch 15 (valid): epoch_mAP=0.9329 | epoch_macro_f1=0.9002 | epoch_precision=0.8987 | loss=0.8681 | mAP=0.8816 | macro_f1=0.8627 | precision=0.8044\n",
      "16/30 * Epoch (train): 100% 317/317 [11:04<00:00,  2.10s/it, loss=0.860, mAP=0.923, macro_f1=0.885, precision=0.967]\n",
      "16/30 * Epoch (valid): 100% 80/80 [00:16<00:00,  4.97it/s, loss=1.702, mAP=0.500, macro_f1=0.391, precision=0.000e+00]\n",
      "[2021-02-12 13:32:58,530] \n",
      "16/30 * Epoch 16 (_base): lr=0.0007 | momentum=0.9000\n",
      "16/30 * Epoch 16 (train): epoch_mAP=0.9285 | epoch_macro_f1=0.8825 | epoch_precision=0.9245 | loss=0.8714 | mAP=0.9347 | macro_f1=0.8805 | precision=0.9240\n",
      "16/30 * Epoch 16 (valid): epoch_mAP=0.9342 | epoch_macro_f1=0.8992 | epoch_precision=0.9057 | loss=0.8547 | mAP=0.8824 | macro_f1=0.8465 | precision=0.8210\n",
      "17/30 * Epoch (train): 100% 317/317 [11:04<00:00,  2.10s/it, loss=0.761, mAP=0.981, macro_f1=0.885, precision=0.935]\n",
      "17/30 * Epoch (valid): 100% 80/80 [00:15<00:00,  5.02it/s, loss=2.079, mAP=0.500, macro_f1=0.391, precision=0.000e+00]\n",
      "[2021-02-12 13:44:22,454] \n",
      "17/30 * Epoch 17 (_base): lr=0.0008 | momentum=0.9000\n",
      "17/30 * Epoch 17 (train): epoch_mAP=0.9284 | epoch_macro_f1=0.8835 | epoch_precision=0.9273 | loss=0.8751 | mAP=0.9346 | macro_f1=0.8814 | precision=0.9266\n",
      "17/30 * Epoch 17 (valid): epoch_mAP=0.9318 | epoch_macro_f1=0.8913 | epoch_precision=0.8610 | loss=0.8835 | mAP=0.8827 | macro_f1=0.8463 | precision=0.7826\n",
      "18/30 * Epoch (train): 100% 317/317 [11:03<00:00,  2.09s/it, loss=0.768, mAP=0.977, macro_f1=0.947, precision=0.944]\n",
      "18/30 * Epoch (valid): 100% 80/80 [00:15<00:00,  5.02it/s, loss=1.864, mAP=0.500, macro_f1=0.391, precision=0.000e+00]\n",
      "[2021-02-12 13:55:45,663] \n",
      "18/30 * Epoch 18 (_base): lr=0.0009 | momentum=0.9000\n",
      "18/30 * Epoch 18 (train): epoch_mAP=0.9241 | epoch_macro_f1=0.8811 | epoch_precision=0.9229 | loss=0.8923 | mAP=0.9320 | macro_f1=0.8789 | precision=0.9233\n",
      "18/30 * Epoch 18 (valid): epoch_mAP=0.9305 | epoch_macro_f1=0.8923 | epoch_precision=0.8642 | loss=0.8674 | mAP=0.8772 | macro_f1=0.8463 | precision=0.7773\n",
      "19/30 * Epoch (train): 100% 317/317 [10:59<00:00,  2.08s/it, loss=0.851, mAP=0.978, macro_f1=0.895, precision=0.857]\n",
      "19/30 * Epoch (valid): 100% 80/80 [00:16<00:00,  4.98it/s, loss=1.286, mAP=0.500, macro_f1=1.000, precision=0.000e+00]\n",
      "[2021-02-12 14:07:04,972] \n",
      "19/30 * Epoch 19 (_base): lr=0.0010 | momentum=0.9000\n",
      "19/30 * Epoch 19 (train): epoch_mAP=0.9214 | epoch_macro_f1=0.8776 | epoch_precision=0.9207 | loss=0.8947 | mAP=0.9295 | macro_f1=0.8753 | precision=0.9208\n",
      "19/30 * Epoch 19 (valid): epoch_mAP=0.9121 | epoch_macro_f1=0.8595 | epoch_precision=0.7705 | loss=0.9464 | mAP=0.8662 | macro_f1=0.8064 | precision=0.6930\n",
      "20/30 * Epoch (train): 100% 317/317 [11:05<00:00,  2.10s/it, loss=0.991, mAP=0.873, macro_f1=0.863, precision=0.903]\n",
      "20/30 * Epoch (valid): 100% 80/80 [00:16<00:00,  5.00it/s, loss=0.923, mAP=0.500, macro_f1=1.000, precision=0.000e+00]\n",
      "[2021-02-12 14:18:29,947] \n",
      "20/30 * Epoch 20 (_base): lr=0.0010 | momentum=0.9000\n",
      "20/30 * Epoch 20 (train): epoch_mAP=0.9191 | epoch_macro_f1=0.8811 | epoch_precision=0.9238 | loss=0.8872 | mAP=0.9297 | macro_f1=0.8790 | precision=0.9235\n",
      "20/30 * Epoch 20 (valid): epoch_mAP=0.9280 | epoch_macro_f1=0.8969 | epoch_precision=0.8808 | loss=0.8581 | mAP=0.8800 | macro_f1=0.8601 | precision=0.7888\n",
      "21/30 * Epoch (train): 100% 317/317 [11:09<00:00,  2.11s/it, loss=0.842, mAP=0.932, macro_f1=0.859, precision=0.935]\n",
      "21/30 * Epoch (valid): 100% 80/80 [00:15<00:00,  5.01it/s, loss=1.082, mAP=0.500, macro_f1=1.000, precision=0.000e+00]\n",
      "[2021-02-12 14:29:58,703] \n",
      "21/30 * Epoch 21 (_base): lr=0.0010 | momentum=0.9000\n",
      "21/30 * Epoch 21 (train): epoch_mAP=0.9231 | epoch_macro_f1=0.8844 | epoch_precision=0.9268 | loss=0.8820 | mAP=0.9328 | macro_f1=0.8823 | precision=0.9265\n",
      "21/30 * Epoch 21 (valid): epoch_mAP=0.9347 | epoch_macro_f1=0.8600 | epoch_precision=0.7723 | loss=0.9366 | mAP=0.8825 | macro_f1=0.8114 | precision=0.6860\n",
      "22/30 * Epoch (train): 100% 317/317 [10:58<00:00,  2.08s/it, loss=0.933, mAP=0.969, macro_f1=0.812, precision=0.724]\n",
      "22/30 * Epoch (valid): 100% 80/80 [00:16<00:00,  4.99it/s, loss=1.303, mAP=0.500, macro_f1=1.000, precision=0.000e+00]\n",
      "[2021-02-12 14:41:16,660] \n",
      "22/30 * Epoch 22 (_base): lr=0.0009 | momentum=0.9000\n",
      "22/30 * Epoch 22 (train): epoch_mAP=0.9259 | epoch_macro_f1=0.8811 | epoch_precision=0.9222 | loss=0.8814 | mAP=0.9330 | macro_f1=0.8786 | precision=0.9225\n",
      "22/30 * Epoch 22 (valid): epoch_mAP=0.9325 | epoch_macro_f1=0.8883 | epoch_precision=0.8583 | loss=0.8671 | mAP=0.8855 | macro_f1=0.8504 | precision=0.7650\n",
      "23/30 * Epoch (train): 100% 317/317 [10:56<00:00,  2.07s/it, loss=0.824, mAP=0.927, macro_f1=0.915, precision=1.000]\n",
      "23/30 * Epoch (valid): 100% 80/80 [00:16<00:00,  4.99it/s, loss=1.234, mAP=0.500, macro_f1=0.391, precision=0.000e+00]\n",
      "[2021-02-12 14:52:33,026] \n",
      "23/30 * Epoch 23 (_base): lr=0.0008 | momentum=0.9000\n",
      "23/30 * Epoch 23 (train): epoch_mAP=0.9246 | epoch_macro_f1=0.8829 | epoch_precision=0.9255 | loss=0.8815 | mAP=0.9338 | macro_f1=0.8808 | precision=0.9254\n",
      "23/30 * Epoch 23 (valid): epoch_mAP=0.9330 | epoch_macro_f1=0.8804 | epoch_precision=0.8419 | loss=0.8757 | mAP=0.8846 | macro_f1=0.8323 | precision=0.7672\n",
      "24/30 * Epoch (train): 100% 317/317 [11:03<00:00,  2.09s/it, loss=1.096, mAP=0.867, macro_f1=0.790, precision=0.808]\n",
      "24/30 * Epoch (valid): 100% 80/80 [00:15<00:00,  5.02it/s, loss=0.813, mAP=0.500, macro_f1=1.000, precision=0.000e+00]\n",
      "[2021-02-12 15:03:55,958] \n",
      "24/30 * Epoch 24 (_base): lr=0.0007 | momentum=0.9000\n",
      "24/30 * Epoch 24 (train): epoch_mAP=0.9348 | epoch_macro_f1=0.8904 | epoch_precision=0.9284 | loss=0.8605 | mAP=0.9399 | macro_f1=0.8882 | precision=0.9275\n",
      "24/30 * Epoch 24 (valid): epoch_mAP=0.9299 | epoch_macro_f1=0.8817 | epoch_precision=0.8332 | loss=0.8825 | mAP=0.8825 | macro_f1=0.8237 | precision=0.7477\n",
      "25/30 * Epoch (train): 100% 317/317 [10:53<00:00,  2.06s/it, loss=0.907, mAP=0.919, macro_f1=0.869, precision=0.963]\n",
      "25/30 * Epoch (valid): 100% 80/80 [00:16<00:00,  4.98it/s, loss=0.994, mAP=0.500, macro_f1=1.000, precision=0.000e+00]\n",
      "[2021-02-12 15:15:08,959] \n",
      "25/30 * Epoch 25 (_base): lr=0.0005 | momentum=0.9000\n",
      "25/30 * Epoch 25 (train): epoch_mAP=0.9384 | epoch_macro_f1=0.8967 | epoch_precision=0.9378 | loss=0.8461 | mAP=0.9431 | macro_f1=0.8944 | precision=0.9377\n",
      "25/30 * Epoch 25 (valid): epoch_mAP=0.9337 | epoch_macro_f1=0.9043 | epoch_precision=0.9117 | loss=0.8509 | mAP=0.8827 | macro_f1=0.8735 | precision=0.8326\n",
      "26/30 * Epoch (train): 100% 317/317 [11:07<00:00,  2.11s/it, loss=0.814, mAP=0.966, macro_f1=0.917, precision=0.955]\n",
      "26/30 * Epoch (valid): 100% 80/80 [00:15<00:00,  5.02it/s, loss=0.763, mAP=0.500, macro_f1=1.000, precision=0.000e+00]\n",
      "[2021-02-12 15:26:36,069] \n",
      "26/30 * Epoch 26 (_base): lr=0.0003 | momentum=0.9000\n",
      "26/30 * Epoch 26 (train): epoch_mAP=0.9431 | epoch_macro_f1=0.9002 | epoch_precision=0.9381 | loss=0.8284 | mAP=0.9462 | macro_f1=0.8985 | precision=0.9379\n",
      "26/30 * Epoch 26 (valid): epoch_mAP=0.9320 | epoch_macro_f1=0.8989 | epoch_precision=0.8851 | loss=0.8528 | mAP=0.8808 | macro_f1=0.8599 | precision=0.7928\n",
      "27/30 * Epoch (train): 100% 317/317 [11:03<00:00,  2.09s/it, loss=0.882, mAP=0.944, macro_f1=0.916, precision=0.960]\n",
      "27/30 * Epoch (valid): 100% 80/80 [00:16<00:00,  5.00it/s, loss=0.815, mAP=0.500, macro_f1=1.000, precision=0.000e+00]\n",
      "[2021-02-12 15:37:59,325] \n",
      "27/30 * Epoch 27 (_base): lr=0.0002 | momentum=0.9000\n",
      "27/30 * Epoch 27 (train): epoch_mAP=0.9516 | epoch_macro_f1=0.9057 | epoch_precision=0.9425 | loss=0.8089 | mAP=0.9547 | macro_f1=0.9039 | precision=0.9422\n",
      "27/30 * Epoch 27 (valid): epoch_mAP=0.9259 | epoch_macro_f1=0.8922 | epoch_precision=0.8705 | loss=0.8772 | mAP=0.8775 | macro_f1=0.8428 | precision=0.7837\n",
      "28/30 * Epoch (train): 100% 317/317 [11:10<00:00,  2.12s/it, loss=0.649, mAP=0.986, macro_f1=0.974, precision=1.000]\n",
      "28/30 * Epoch (valid): 100% 80/80 [00:15<00:00,  5.04it/s, loss=0.850, mAP=0.500, macro_f1=1.000, precision=0.000e+00]\n",
      "[2021-02-12 15:49:29,379] \n",
      "28/30 * Epoch 28 (_base): lr=9.549e-05 | momentum=0.9000\n",
      "28/30 * Epoch 28 (train): epoch_mAP=0.9592 | epoch_macro_f1=0.9109 | epoch_precision=0.9442 | loss=0.7852 | mAP=0.9610 | macro_f1=0.9092 | precision=0.9438\n",
      "28/30 * Epoch 28 (valid): epoch_mAP=0.9254 | epoch_macro_f1=0.8934 | epoch_precision=0.8866 | loss=0.8776 | mAP=0.8764 | macro_f1=0.8498 | precision=0.7976\n",
      "29/30 * Epoch (train): 100% 317/317 [10:56<00:00,  2.07s/it, loss=0.975, mAP=0.926, macro_f1=0.831, precision=0.821]\n",
      "29/30 * Epoch (valid): 100% 80/80 [00:15<00:00,  5.02it/s, loss=0.671, mAP=0.500, macro_f1=1.000, precision=0.000e+00]\n",
      "[2021-02-12 16:00:45,404] \n",
      "29/30 * Epoch 29 (_base): lr=2.447e-05 | momentum=0.9000\n",
      "29/30 * Epoch 29 (train): epoch_mAP=0.9628 | epoch_macro_f1=0.9144 | epoch_precision=0.9465 | loss=0.7726 | mAP=0.9655 | macro_f1=0.9130 | precision=0.9458\n",
      "29/30 * Epoch 29 (valid): epoch_mAP=0.9258 | epoch_macro_f1=0.8918 | epoch_precision=0.8721 | loss=0.8963 | mAP=0.8744 | macro_f1=0.8478 | precision=0.7831\n",
      "30/30 * Epoch (train): 100% 317/317 [11:00<00:00,  2.08s/it, loss=0.791, mAP=0.968, macro_f1=0.869, precision=0.929]\n",
      "30/30 * Epoch (valid): 100% 80/80 [00:16<00:00,  5.00it/s, loss=0.711, mAP=0.500, macro_f1=1.000, precision=0.000e+00]\n",
      "[2021-02-12 16:12:05,309] \n",
      "30/30 * Epoch 30 (_base): lr=0.000e+00 | momentum=0.9000\n",
      "30/30 * Epoch 30 (train): epoch_mAP=0.9652 | epoch_macro_f1=0.9177 | epoch_precision=0.9501 | loss=0.7665 | mAP=0.9665 | macro_f1=0.9163 | precision=0.9495\n",
      "30/30 * Epoch 30 (valid): epoch_mAP=0.9251 | epoch_macro_f1=0.8847 | epoch_precision=0.8389 | loss=0.9067 | mAP=0.8774 | macro_f1=0.8278 | precision=0.7526\n",
      "Top best models:\n",
      "train\\logs\\sp3-3\\checkpoints/train.14.pth\t0.9185\n",
      "train\\logs\\sp3-3\\checkpoints/train.25.pth\t0.9117\n",
      "train\\logs\\sp3-3\\checkpoints/train.16.pth\t0.9057\n"
     ]
    }
   ],
   "source": [
    "warnings.simplefilter(\"ignore\")\n",
    "\n",
    "runner = SupervisedRunner(\n",
    "    device=device,\n",
    "    input_key=\"waveform\",\n",
    "    input_target_key=\"targets\")\n",
    "\n",
    "runner.train(\n",
    "    model=model,\n",
    "    criterion=loss,\n",
    "    loaders=loaders,\n",
    "    optimizer=optimizer,\n",
    "    scheduler=scheduler,\n",
    "    num_epochs=EPOCHS,\n",
    "    verbose=True,\n",
    "    logdir=LOG_DIR,\n",
    "    callbacks=callbacks,\n",
    "    main_metric=\"epoch_precision\",\n",
    "    minimize_metric=False,\n",
    "    # fp16=True,\n",
    ")"
   ]
  },
  {
   "cell_type": "code",
   "execution_count": null,
   "metadata": {},
   "outputs": [],
   "source": []
  }
 ]
}